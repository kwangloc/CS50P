{
 "cells": [
  {
   "cell_type": "code",
   "execution_count": 36,
   "metadata": {},
   "outputs": [],
   "source": [
    "import time"
   ]
  },
  {
   "cell_type": "markdown",
   "metadata": {},
   "source": [
    "# Recursive function\n",
    "- Recursions happens when a function is called within itself\n",
    "- base-case is required\n",
    "- No calculations are done until the base-case is reached, it might require large memory\n",
    "- Good for: tree traversal, binary search\n",
    "- e.g. Matryoshka Doll, a Russian traditional doll that hides smaller dolls inside it, the last doll is also known as \"base-case\" or \"base-condition\""
   ]
  },
  {
   "cell_type": "markdown",
   "metadata": {
    "vscode": {
     "languageId": "plaintext"
    }
   },
   "source": [
    "### e.g. print positive even numbers that smaller than n"
   ]
  },
  {
   "cell_type": "code",
   "execution_count": 21,
   "metadata": {},
   "outputs": [],
   "source": [
    "def pos_even_smaller(num):\n",
    "    print(num-1)\n",
    "    if num == 2: # base-case\n",
    "        return num\n",
    "    else:\n",
    "        return pos_even_smaller(num-2)"
   ]
  },
  {
   "cell_type": "code",
   "execution_count": 10,
   "metadata": {},
   "outputs": [
    {
     "name": "stdout",
     "output_type": "stream",
     "text": [
      "7\n",
      "5\n",
      "3\n",
      "1\n"
     ]
    },
    {
     "data": {
      "text/plain": [
       "2"
      ]
     },
     "execution_count": 10,
     "metadata": {},
     "output_type": "execute_result"
    }
   ],
   "source": [
    "pos_even_smaller(8)"
   ]
  },
  {
   "cell_type": "markdown",
   "metadata": {},
   "source": [
    "### e.g. Fibonacci numbers (0,1,1,2,3,5,8,...)\n",
    "- a sequence where the next number equals the sum of its 2 previous numbers\n"
   ]
  },
  {
   "cell_type": "code",
   "execution_count": 24,
   "metadata": {},
   "outputs": [],
   "source": [
    "# Recursion\n",
    "def Fibonacci(index_of_num):\n",
    "    if index_of_num <= 2: # base-case\n",
    "        return index_of_num-1\n",
    "    else:\n",
    "        return fibonacci(index_of_num-1) + fibonacci(index_of_num-2)\n",
    "    \n",
    "# Iteration\n",
    "def fibonacci(index_of_num):\n",
    "    seq = [0, 1]\n",
    "    for i in range(3, index_of_num+1):\n",
    "        seq.append(seq[-1] + seq[-2])\n",
    "    return seq[index_of_num-1]"
   ]
  },
  {
   "cell_type": "code",
   "execution_count": 79,
   "metadata": {},
   "outputs": [
    {
     "name": "stdout",
     "output_type": "stream",
     "text": [
      "2\n",
      "Speed:  1.1339638233184814\n"
     ]
    }
   ],
   "source": [
    "rec_1 = time.time()\n",
    "print(Fibonacci(4))\n",
    "print(\"Speed: \", str(time.time()-rec_1))"
   ]
  },
  {
   "cell_type": "code",
   "execution_count": 77,
   "metadata": {},
   "outputs": [
    {
     "name": "stdout",
     "output_type": "stream",
     "text": [
      "0\n",
      "Speed:  1.2404117584228516\n"
     ]
    }
   ],
   "source": [
    "rec_2 = time.time()\n",
    "print(fibonacci(1))\n",
    "print(\"Speed: \", str(time.time()-rec_2))"
   ]
  },
  {
   "cell_type": "markdown",
   "metadata": {},
   "source": [
    "### e.g. Calculate fintorial\n",
    "- 5! = 1x2x3x4x5"
   ]
  },
  {
   "cell_type": "code",
   "execution_count": 92,
   "metadata": {},
   "outputs": [],
   "source": [
    "def factorial(num):\n",
    "    # base-case\n",
    "    if num <= 1: \n",
    "        return 1\n",
    "    else: \n",
    "        return num*factorial(num-1)"
   ]
  },
  {
   "cell_type": "code",
   "execution_count": 93,
   "metadata": {},
   "outputs": [
    {
     "data": {
      "text/plain": [
       "24"
      ]
     },
     "execution_count": 93,
     "metadata": {},
     "output_type": "execute_result"
    }
   ],
   "source": [
    "factorial(4)"
   ]
  }
 ],
 "metadata": {
  "kernelspec": {
   "display_name": "venv_cs50python",
   "language": "python",
   "name": "python3"
  },
  "language_info": {
   "codemirror_mode": {
    "name": "ipython",
    "version": 3
   },
   "file_extension": ".py",
   "mimetype": "text/x-python",
   "name": "python",
   "nbconvert_exporter": "python",
   "pygments_lexer": "ipython3",
   "version": "3.11.7"
  }
 },
 "nbformat": 4,
 "nbformat_minor": 2
}
